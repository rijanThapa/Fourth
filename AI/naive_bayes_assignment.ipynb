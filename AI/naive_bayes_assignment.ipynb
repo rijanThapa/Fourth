{
  "cells": [
    {
      "cell_type": "code",
      "source": [
        "data ='''Congrats, You have won!! reply to our sms for a free nokia mobile + free camcorder. ---spam\n",
        "Congrats! 1 year special cinema pass for 2 is yours. reply to this sms to claim your prize. ---spam\n",
        "I am pleased to tell you that you are awarded with a 1500 Bonus Prize, reply to this sms to claim your prize.---spam\n",
        "Dont worry. I guess he is busy. ---not spam\n",
        "Going for dinner. msg you later.  ---not spam\n",
        "Ok, I will call you up when I get some cash.---not spam'''\n",
        "print(data)\n",
        "data = data.split('\\n')\n",
        "data"
      ],
      "metadata": {
        "colab": {
          "base_uri": "https://localhost:8080/"
        },
        "id": "8wH36LWHmnj_",
        "outputId": "da98fcf6-1b96-471e-e423-88a69988d0c2"
      },
      "execution_count": null,
      "outputs": [
        {
          "output_type": "stream",
          "name": "stdout",
          "text": [
            "Congrats, You have won!! reply to our sms for a free nokia mobile + free camcorder. ---spam\n",
            "Congrats! 1 year special cinema pass for 2 is yours. reply to this sms to claim your prize. ---spam\n",
            "I am pleased to tell you that you are awarded with a 1500 Bonus Prize, reply to this sms to claim your prize.---spam\n",
            "Dont worry. I guess he is busy. ---not spam\n",
            "Going for dinner. msg you later.  ---not spam\n",
            "Ok, I will call you up when I get some cash.---not spam\n"
          ]
        },
        {
          "output_type": "execute_result",
          "data": {
            "text/plain": [
              "['Congrats, You have won!! reply to our sms for a free nokia mobile + free camcorder. ---spam',\n",
              " 'Congrats! 1 year special cinema pass for 2 is yours. reply to this sms to claim your prize. ---spam',\n",
              " 'I am pleased to tell you that you are awarded with a 1500 Bonus Prize, reply to this sms to claim your prize.---spam',\n",
              " 'Dont worry. I guess he is busy. ---not spam',\n",
              " 'Going for dinner. msg you later.  ---not spam',\n",
              " 'Ok, I will call you up when I get some cash.---not spam']"
            ]
          },
          "metadata": {},
          "execution_count": 124
        }
      ]
    },
    {
      "cell_type": "code",
      "source": [
        "len(data)"
      ],
      "metadata": {
        "colab": {
          "base_uri": "https://localhost:8080/"
        },
        "id": "8kdu5KAMPHCF",
        "outputId": "fe9c301c-37bd-4102-dc1d-a7eb8b1ea599"
      },
      "execution_count": null,
      "outputs": [
        {
          "output_type": "execute_result",
          "data": {
            "text/plain": [
              "1"
            ]
          },
          "metadata": {},
          "execution_count": 114
        }
      ]
    },
    {
      "cell_type": "code",
      "execution_count": null,
      "metadata": {
        "colab": {
          "base_uri": "https://localhost:8080/"
        },
        "outputId": "c8e3b5bf-0dd7-4ada-825c-4849d62c9ed1",
        "id": "EecMWl17nGIg"
      },
      "outputs": [
        {
          "output_type": "stream",
          "name": "stdout",
          "text": [
            "[['Congrats, You have won!! reply to our sms for a free nokia mobile + free camcorder. ', 'spam'], ['Congrats! 1 year special cinema pass for 2 is yours. reply to this sms to claim your prize. ', 'spam'], ['I am pleased to tell you that you are awarded with a 1500 Bonus Prize, reply to this sms to claim your prize.', 'spam'], ['Dont worry. I guess he is busy. ', 'not spam'], ['Going for dinner. msg you later.  ', 'not spam'], ['Ok, I will call you up when I get some cash.', 'not spam']]\n"
          ]
        }
      ],
      "source": [
        "# data = [data.split(\"\\n\") ]\n",
        "data = [d.split(\"---\") for d in data]\n",
        "# del(data[-1])\n",
        "print(data)\n",
        "\n"
      ]
    },
    {
      "cell_type": "code",
      "execution_count": null,
      "metadata": {
        "id": "nvOgtE1fAnQG"
      },
      "outputs": [],
      "source": [
        "# file = open(\"data.txt\",\"r\")\n",
        "# data = file.read().split(\"\\n\")\n",
        "# data = [d.split(\"\\t\") for d in data]\n",
        "# data"
      ]
    },
    {
      "cell_type": "code",
      "execution_count": null,
      "metadata": {
        "colab": {
          "base_uri": "https://localhost:8080/",
          "height": 359
        },
        "id": "AQHL_O9aAnQK",
        "outputId": "dd9f67e1-0a04-47c8-dd43-ce06cee9ebe3"
      },
      "outputs": [
        {
          "output_type": "stream",
          "name": "stdout",
          "text": [
            "                                                   0         1\n",
            "0  Congrats, You have won!! reply to our sms for ...      spam\n",
            "1  Congrats! 1 year special cinema pass for 2 is ...      spam\n",
            "2  I am pleased to tell you that you are awarded ...      spam\n",
            "3                   Dont worry. I guess he is busy.   not spam\n",
            "4                 Going for dinner. msg you later.    not spam\n",
            "5       Ok, I will call you up when I get some cash.  not spam\n"
          ]
        },
        {
          "output_type": "execute_result",
          "data": {
            "text/plain": [
              "                                                text     label\n",
              "0  Congrats, You have won!! reply to our sms for ...      spam\n",
              "1  Congrats! 1 year special cinema pass for 2 is ...      spam\n",
              "2  I am pleased to tell you that you are awarded ...      spam\n",
              "3                   Dont worry. I guess he is busy.   not spam\n",
              "4                 Going for dinner. msg you later.    not spam\n",
              "5       Ok, I will call you up when I get some cash.  not spam"
            ],
            "text/html": [
              "\n",
              "  <div id=\"df-de38036d-408f-486f-9cab-aa10dda5e356\" class=\"colab-df-container\">\n",
              "    <div>\n",
              "<style scoped>\n",
              "    .dataframe tbody tr th:only-of-type {\n",
              "        vertical-align: middle;\n",
              "    }\n",
              "\n",
              "    .dataframe tbody tr th {\n",
              "        vertical-align: top;\n",
              "    }\n",
              "\n",
              "    .dataframe thead th {\n",
              "        text-align: right;\n",
              "    }\n",
              "</style>\n",
              "<table border=\"1\" class=\"dataframe\">\n",
              "  <thead>\n",
              "    <tr style=\"text-align: right;\">\n",
              "      <th></th>\n",
              "      <th>text</th>\n",
              "      <th>label</th>\n",
              "    </tr>\n",
              "  </thead>\n",
              "  <tbody>\n",
              "    <tr>\n",
              "      <th>0</th>\n",
              "      <td>Congrats, You have won!! reply to our sms for ...</td>\n",
              "      <td>spam</td>\n",
              "    </tr>\n",
              "    <tr>\n",
              "      <th>1</th>\n",
              "      <td>Congrats! 1 year special cinema pass for 2 is ...</td>\n",
              "      <td>spam</td>\n",
              "    </tr>\n",
              "    <tr>\n",
              "      <th>2</th>\n",
              "      <td>I am pleased to tell you that you are awarded ...</td>\n",
              "      <td>spam</td>\n",
              "    </tr>\n",
              "    <tr>\n",
              "      <th>3</th>\n",
              "      <td>Dont worry. I guess he is busy.</td>\n",
              "      <td>not spam</td>\n",
              "    </tr>\n",
              "    <tr>\n",
              "      <th>4</th>\n",
              "      <td>Going for dinner. msg you later.</td>\n",
              "      <td>not spam</td>\n",
              "    </tr>\n",
              "    <tr>\n",
              "      <th>5</th>\n",
              "      <td>Ok, I will call you up when I get some cash.</td>\n",
              "      <td>not spam</td>\n",
              "    </tr>\n",
              "  </tbody>\n",
              "</table>\n",
              "</div>\n",
              "    <div class=\"colab-df-buttons\">\n",
              "\n",
              "  <div class=\"colab-df-container\">\n",
              "    <button class=\"colab-df-convert\" onclick=\"convertToInteractive('df-de38036d-408f-486f-9cab-aa10dda5e356')\"\n",
              "            title=\"Convert this dataframe to an interactive table.\"\n",
              "            style=\"display:none;\">\n",
              "\n",
              "  <svg xmlns=\"http://www.w3.org/2000/svg\" height=\"24px\" viewBox=\"0 -960 960 960\">\n",
              "    <path d=\"M120-120v-720h720v720H120Zm60-500h600v-160H180v160Zm220 220h160v-160H400v160Zm0 220h160v-160H400v160ZM180-400h160v-160H180v160Zm440 0h160v-160H620v160ZM180-180h160v-160H180v160Zm440 0h160v-160H620v160Z\"/>\n",
              "  </svg>\n",
              "    </button>\n",
              "\n",
              "  <style>\n",
              "    .colab-df-container {\n",
              "      display:flex;\n",
              "      gap: 12px;\n",
              "    }\n",
              "\n",
              "    .colab-df-convert {\n",
              "      background-color: #E8F0FE;\n",
              "      border: none;\n",
              "      border-radius: 50%;\n",
              "      cursor: pointer;\n",
              "      display: none;\n",
              "      fill: #1967D2;\n",
              "      height: 32px;\n",
              "      padding: 0 0 0 0;\n",
              "      width: 32px;\n",
              "    }\n",
              "\n",
              "    .colab-df-convert:hover {\n",
              "      background-color: #E2EBFA;\n",
              "      box-shadow: 0px 1px 2px rgba(60, 64, 67, 0.3), 0px 1px 3px 1px rgba(60, 64, 67, 0.15);\n",
              "      fill: #174EA6;\n",
              "    }\n",
              "\n",
              "    .colab-df-buttons div {\n",
              "      margin-bottom: 4px;\n",
              "    }\n",
              "\n",
              "    [theme=dark] .colab-df-convert {\n",
              "      background-color: #3B4455;\n",
              "      fill: #D2E3FC;\n",
              "    }\n",
              "\n",
              "    [theme=dark] .colab-df-convert:hover {\n",
              "      background-color: #434B5C;\n",
              "      box-shadow: 0px 1px 3px 1px rgba(0, 0, 0, 0.15);\n",
              "      filter: drop-shadow(0px 1px 2px rgba(0, 0, 0, 0.3));\n",
              "      fill: #FFFFFF;\n",
              "    }\n",
              "  </style>\n",
              "\n",
              "    <script>\n",
              "      const buttonEl =\n",
              "        document.querySelector('#df-de38036d-408f-486f-9cab-aa10dda5e356 button.colab-df-convert');\n",
              "      buttonEl.style.display =\n",
              "        google.colab.kernel.accessAllowed ? 'block' : 'none';\n",
              "\n",
              "      async function convertToInteractive(key) {\n",
              "        const element = document.querySelector('#df-de38036d-408f-486f-9cab-aa10dda5e356');\n",
              "        const dataTable =\n",
              "          await google.colab.kernel.invokeFunction('convertToInteractive',\n",
              "                                                    [key], {});\n",
              "        if (!dataTable) return;\n",
              "\n",
              "        const docLinkHtml = 'Like what you see? Visit the ' +\n",
              "          '<a target=\"_blank\" href=https://colab.research.google.com/notebooks/data_table.ipynb>data table notebook</a>'\n",
              "          + ' to learn more about interactive tables.';\n",
              "        element.innerHTML = '';\n",
              "        dataTable['output_type'] = 'display_data';\n",
              "        await google.colab.output.renderOutput(dataTable, element);\n",
              "        const docLink = document.createElement('div');\n",
              "        docLink.innerHTML = docLinkHtml;\n",
              "        element.appendChild(docLink);\n",
              "      }\n",
              "    </script>\n",
              "  </div>\n",
              "\n",
              "\n",
              "<div id=\"df-87e5fa04-fa32-495a-a27c-91ad3bcb4ad0\">\n",
              "  <button class=\"colab-df-quickchart\" onclick=\"quickchart('df-87e5fa04-fa32-495a-a27c-91ad3bcb4ad0')\"\n",
              "            title=\"Suggest charts\"\n",
              "            style=\"display:none;\">\n",
              "\n",
              "<svg xmlns=\"http://www.w3.org/2000/svg\" height=\"24px\"viewBox=\"0 0 24 24\"\n",
              "     width=\"24px\">\n",
              "    <g>\n",
              "        <path d=\"M19 3H5c-1.1 0-2 .9-2 2v14c0 1.1.9 2 2 2h14c1.1 0 2-.9 2-2V5c0-1.1-.9-2-2-2zM9 17H7v-7h2v7zm4 0h-2V7h2v10zm4 0h-2v-4h2v4z\"/>\n",
              "    </g>\n",
              "</svg>\n",
              "  </button>\n",
              "\n",
              "<style>\n",
              "  .colab-df-quickchart {\n",
              "      --bg-color: #E8F0FE;\n",
              "      --fill-color: #1967D2;\n",
              "      --hover-bg-color: #E2EBFA;\n",
              "      --hover-fill-color: #174EA6;\n",
              "      --disabled-fill-color: #AAA;\n",
              "      --disabled-bg-color: #DDD;\n",
              "  }\n",
              "\n",
              "  [theme=dark] .colab-df-quickchart {\n",
              "      --bg-color: #3B4455;\n",
              "      --fill-color: #D2E3FC;\n",
              "      --hover-bg-color: #434B5C;\n",
              "      --hover-fill-color: #FFFFFF;\n",
              "      --disabled-bg-color: #3B4455;\n",
              "      --disabled-fill-color: #666;\n",
              "  }\n",
              "\n",
              "  .colab-df-quickchart {\n",
              "    background-color: var(--bg-color);\n",
              "    border: none;\n",
              "    border-radius: 50%;\n",
              "    cursor: pointer;\n",
              "    display: none;\n",
              "    fill: var(--fill-color);\n",
              "    height: 32px;\n",
              "    padding: 0;\n",
              "    width: 32px;\n",
              "  }\n",
              "\n",
              "  .colab-df-quickchart:hover {\n",
              "    background-color: var(--hover-bg-color);\n",
              "    box-shadow: 0 1px 2px rgba(60, 64, 67, 0.3), 0 1px 3px 1px rgba(60, 64, 67, 0.15);\n",
              "    fill: var(--button-hover-fill-color);\n",
              "  }\n",
              "\n",
              "  .colab-df-quickchart-complete:disabled,\n",
              "  .colab-df-quickchart-complete:disabled:hover {\n",
              "    background-color: var(--disabled-bg-color);\n",
              "    fill: var(--disabled-fill-color);\n",
              "    box-shadow: none;\n",
              "  }\n",
              "\n",
              "  .colab-df-spinner {\n",
              "    border: 2px solid var(--fill-color);\n",
              "    border-color: transparent;\n",
              "    border-bottom-color: var(--fill-color);\n",
              "    animation:\n",
              "      spin 1s steps(1) infinite;\n",
              "  }\n",
              "\n",
              "  @keyframes spin {\n",
              "    0% {\n",
              "      border-color: transparent;\n",
              "      border-bottom-color: var(--fill-color);\n",
              "      border-left-color: var(--fill-color);\n",
              "    }\n",
              "    20% {\n",
              "      border-color: transparent;\n",
              "      border-left-color: var(--fill-color);\n",
              "      border-top-color: var(--fill-color);\n",
              "    }\n",
              "    30% {\n",
              "      border-color: transparent;\n",
              "      border-left-color: var(--fill-color);\n",
              "      border-top-color: var(--fill-color);\n",
              "      border-right-color: var(--fill-color);\n",
              "    }\n",
              "    40% {\n",
              "      border-color: transparent;\n",
              "      border-right-color: var(--fill-color);\n",
              "      border-top-color: var(--fill-color);\n",
              "    }\n",
              "    60% {\n",
              "      border-color: transparent;\n",
              "      border-right-color: var(--fill-color);\n",
              "    }\n",
              "    80% {\n",
              "      border-color: transparent;\n",
              "      border-right-color: var(--fill-color);\n",
              "      border-bottom-color: var(--fill-color);\n",
              "    }\n",
              "    90% {\n",
              "      border-color: transparent;\n",
              "      border-bottom-color: var(--fill-color);\n",
              "    }\n",
              "  }\n",
              "</style>\n",
              "\n",
              "  <script>\n",
              "    async function quickchart(key) {\n",
              "      const quickchartButtonEl =\n",
              "        document.querySelector('#' + key + ' button');\n",
              "      quickchartButtonEl.disabled = true;  // To prevent multiple clicks.\n",
              "      quickchartButtonEl.classList.add('colab-df-spinner');\n",
              "      try {\n",
              "        const charts = await google.colab.kernel.invokeFunction(\n",
              "            'suggestCharts', [key], {});\n",
              "      } catch (error) {\n",
              "        console.error('Error during call to suggestCharts:', error);\n",
              "      }\n",
              "      quickchartButtonEl.classList.remove('colab-df-spinner');\n",
              "      quickchartButtonEl.classList.add('colab-df-quickchart-complete');\n",
              "    }\n",
              "    (() => {\n",
              "      let quickchartButtonEl =\n",
              "        document.querySelector('#df-87e5fa04-fa32-495a-a27c-91ad3bcb4ad0 button');\n",
              "      quickchartButtonEl.style.display =\n",
              "        google.colab.kernel.accessAllowed ? 'block' : 'none';\n",
              "    })();\n",
              "  </script>\n",
              "</div>\n",
              "\n",
              "  <div id=\"id_cfb98e24-fa11-49b6-bc9b-ea7d0da7a3cf\">\n",
              "    <style>\n",
              "      .colab-df-generate {\n",
              "        background-color: #E8F0FE;\n",
              "        border: none;\n",
              "        border-radius: 50%;\n",
              "        cursor: pointer;\n",
              "        display: none;\n",
              "        fill: #1967D2;\n",
              "        height: 32px;\n",
              "        padding: 0 0 0 0;\n",
              "        width: 32px;\n",
              "      }\n",
              "\n",
              "      .colab-df-generate:hover {\n",
              "        background-color: #E2EBFA;\n",
              "        box-shadow: 0px 1px 2px rgba(60, 64, 67, 0.3), 0px 1px 3px 1px rgba(60, 64, 67, 0.15);\n",
              "        fill: #174EA6;\n",
              "      }\n",
              "\n",
              "      [theme=dark] .colab-df-generate {\n",
              "        background-color: #3B4455;\n",
              "        fill: #D2E3FC;\n",
              "      }\n",
              "\n",
              "      [theme=dark] .colab-df-generate:hover {\n",
              "        background-color: #434B5C;\n",
              "        box-shadow: 0px 1px 3px 1px rgba(0, 0, 0, 0.15);\n",
              "        filter: drop-shadow(0px 1px 2px rgba(0, 0, 0, 0.3));\n",
              "        fill: #FFFFFF;\n",
              "      }\n",
              "    </style>\n",
              "    <button class=\"colab-df-generate\" onclick=\"generateWithVariable('data')\"\n",
              "            title=\"Generate code using this dataframe.\"\n",
              "            style=\"display:none;\">\n",
              "\n",
              "  <svg xmlns=\"http://www.w3.org/2000/svg\" height=\"24px\"viewBox=\"0 0 24 24\"\n",
              "       width=\"24px\">\n",
              "    <path d=\"M7,19H8.4L18.45,9,17,7.55,7,17.6ZM5,21V16.75L18.45,3.32a2,2,0,0,1,2.83,0l1.4,1.43a1.91,1.91,0,0,1,.58,1.4,1.91,1.91,0,0,1-.58,1.4L9.25,21ZM18.45,9,17,7.55Zm-12,3A5.31,5.31,0,0,0,4.9,8.1,5.31,5.31,0,0,0,1,6.5,5.31,5.31,0,0,0,4.9,4.9,5.31,5.31,0,0,0,6.5,1,5.31,5.31,0,0,0,8.1,4.9,5.31,5.31,0,0,0,12,6.5,5.46,5.46,0,0,0,6.5,12Z\"/>\n",
              "  </svg>\n",
              "    </button>\n",
              "    <script>\n",
              "      (() => {\n",
              "      const buttonEl =\n",
              "        document.querySelector('#id_cfb98e24-fa11-49b6-bc9b-ea7d0da7a3cf button.colab-df-generate');\n",
              "      buttonEl.style.display =\n",
              "        google.colab.kernel.accessAllowed ? 'block' : 'none';\n",
              "\n",
              "      buttonEl.onclick = () => {\n",
              "        google.colab.notebook.generateWithVariable('data');\n",
              "      }\n",
              "      })();\n",
              "    </script>\n",
              "  </div>\n",
              "\n",
              "    </div>\n",
              "  </div>\n"
            ],
            "application/vnd.google.colaboratory.intrinsic+json": {
              "type": "dataframe",
              "variable_name": "data",
              "summary": "{\n  \"name\": \"data\",\n  \"rows\": 6,\n  \"fields\": [\n    {\n      \"column\": \"text\",\n      \"properties\": {\n        \"dtype\": \"string\",\n        \"num_unique_values\": 6,\n        \"samples\": [\n          \"Congrats, You have won!! reply to our sms for a free nokia mobile + free camcorder. \",\n          \"Congrats! 1 year special cinema pass for 2 is yours. reply to this sms to claim your prize. \",\n          \"Ok, I will call you up when I get some cash.\"\n        ],\n        \"semantic_type\": \"\",\n        \"description\": \"\"\n      }\n    },\n    {\n      \"column\": \"label\",\n      \"properties\": {\n        \"dtype\": \"category\",\n        \"num_unique_values\": 2,\n        \"samples\": [\n          \"not spam\",\n          \"spam\"\n        ],\n        \"semantic_type\": \"\",\n        \"description\": \"\"\n      }\n    }\n  ]\n}"
            }
          },
          "metadata": {},
          "execution_count": 120
        }
      ],
      "source": [
        "data = pd.DataFrame(data)\n",
        "print (data)\n",
        "data.columns = [\"text\",\"label\"]\n",
        "data"
      ]
    },
    {
      "cell_type": "code",
      "execution_count": null,
      "metadata": {
        "id": "PUjCBLFsAnQN"
      },
      "outputs": [],
      "source": [
        "vocab = []\n",
        "text_vector = []\n",
        "for each in data[\"text\"]:\n",
        "    vocab.extend(each.lower().replace(\".\",\"\").replace(\",\",\"\").replace(\"+\",\"\").replace(\"!\",\"\").split())\n",
        "    text_vector.append(each.lower().replace(\".\",\"\").replace(\",\",\"\").replace(\"+\",\"\").replace(\"!\",\"\").split())\n"
      ]
    },
    {
      "cell_type": "code",
      "execution_count": null,
      "metadata": {
        "colab": {
          "base_uri": "https://localhost:8080/"
        },
        "id": "7FnBQ4o7AnQT",
        "outputId": "4a280d9c-cb16-4ca5-a12c-9d6128087198"
      },
      "outputs": [
        {
          "output_type": "stream",
          "name": "stdout",
          "text": [
            "['camcorder', 'a', 'prize', 'pleased', 'busy', 'going', 'up', 'have', 'ok', '1500', 'this', 'will', 'to', 'awarded', 'sms', 'he', 'guess', 'reply', 'cinema', 'am', 'cash', 'bonus', '1', 'dont', 'i', 'that', 'congrats', 'your', 'worry', 'get', 'some', 'free', 'msg', 'is', 'for', 'pass', 'call', 'special', 'won', 'when', 'yours', '2', 'our', 'with', 'later', 'tell', 'claim', 'nokia', 'are', 'mobile', 'you', 'dinner', 'year']\n"
          ]
        }
      ],
      "source": [
        "vocab = list(set(vocab))\n",
        "print(vocab)"
      ]
    },
    {
      "cell_type": "code",
      "execution_count": null,
      "metadata": {
        "colab": {
          "base_uri": "https://localhost:8080/"
        },
        "id": "8k0BEchBAnQW",
        "outputId": "4f0ce3c2-071f-423c-d5f8-77a02947764d"
      },
      "outputs": [
        {
          "output_type": "stream",
          "name": "stdout",
          "text": [
            "[['congrats', 'you', 'have', 'won', 'reply', 'to', 'our', 'sms', 'for', 'a', 'free', 'nokia', 'mobile', 'free', 'camcorder'], ['congrats', '1', 'year', 'special', 'cinema', 'pass', 'for', '2', 'is', 'yours', 'reply', 'to', 'this', 'sms', 'to', 'claim', 'your', 'prize'], ['i', 'am', 'pleased', 'to', 'tell', 'you', 'that', 'you', 'are', 'awarded', 'with', 'a', '1500', 'bonus', 'prize', 'reply', 'to', 'this', 'sms', 'to', 'claim', 'your', 'prize'], ['dont', 'worry', 'i', 'guess', 'he', 'is', 'busy'], ['going', 'for', 'dinner', 'msg', 'you', 'later'], ['ok', 'i', 'will', 'call', 'you', 'up', 'when', 'i', 'get', 'some', 'cash']]\n"
          ]
        }
      ],
      "source": [
        "print(text_vector)"
      ]
    },
    {
      "cell_type": "code",
      "execution_count": null,
      "metadata": {
        "id": "r2ObPCNUAnQb"
      },
      "outputs": [],
      "source": [
        "text_vector_num = []\n",
        "for text in text_vector:\n",
        "    vector = []\n",
        "    for word in vocab:\n",
        "        vector.append(text.count(word))\n",
        "    text_vector_num.append(vector)\n"
      ]
    },
    {
      "cell_type": "code",
      "execution_count": null,
      "metadata": {
        "colab": {
          "base_uri": "https://localhost:8080/"
        },
        "id": "5KJua8qjAnQd",
        "outputId": "c42c06e4-3026-4492-8c05-ce4cbd9a99b6"
      },
      "outputs": [
        {
          "output_type": "stream",
          "name": "stdout",
          "text": [
            "[1, 1, 0, 0, 0, 0, 0, 1, 0, 0, 0, 0, 1, 0, 1, 0, 0, 1, 0, 0, 0, 0, 0, 0, 0, 0, 1, 0, 0, 0, 0, 2, 0, 0, 1, 0, 0, 0, 1, 0, 0, 0, 1, 0, 0, 0, 0, 1, 0, 1, 1, 0, 0]\n",
            "[0, 0, 1, 0, 0, 0, 0, 0, 0, 0, 1, 0, 2, 0, 1, 0, 0, 1, 1, 0, 0, 0, 1, 0, 0, 0, 1, 1, 0, 0, 0, 0, 0, 1, 1, 1, 0, 1, 0, 0, 1, 1, 0, 0, 0, 0, 1, 0, 0, 0, 0, 0, 1]\n",
            "[0, 1, 2, 1, 0, 0, 0, 0, 0, 1, 1, 0, 3, 1, 1, 0, 0, 1, 0, 1, 0, 1, 0, 0, 1, 1, 0, 1, 0, 0, 0, 0, 0, 0, 0, 0, 0, 0, 0, 0, 0, 0, 0, 1, 0, 1, 1, 0, 1, 0, 2, 0, 0]\n",
            "[0, 0, 0, 0, 1, 0, 0, 0, 0, 0, 0, 0, 0, 0, 0, 1, 1, 0, 0, 0, 0, 0, 0, 1, 1, 0, 0, 0, 1, 0, 0, 0, 0, 1, 0, 0, 0, 0, 0, 0, 0, 0, 0, 0, 0, 0, 0, 0, 0, 0, 0, 0, 0]\n",
            "[0, 0, 0, 0, 0, 1, 0, 0, 0, 0, 0, 0, 0, 0, 0, 0, 0, 0, 0, 0, 0, 0, 0, 0, 0, 0, 0, 0, 0, 0, 0, 0, 1, 0, 1, 0, 0, 0, 0, 0, 0, 0, 0, 0, 1, 0, 0, 0, 0, 0, 1, 1, 0]\n",
            "[0, 0, 0, 0, 0, 0, 1, 0, 1, 0, 0, 1, 0, 0, 0, 0, 0, 0, 0, 0, 1, 0, 0, 0, 2, 0, 0, 0, 0, 1, 1, 0, 0, 0, 0, 0, 1, 0, 0, 1, 0, 0, 0, 0, 0, 0, 0, 0, 0, 0, 1, 0, 0]\n"
          ]
        }
      ],
      "source": [
        "for each in text_vector_num:\n",
        "    print(each)"
      ]
    },
    {
      "cell_type": "code",
      "execution_count": null,
      "metadata": {
        "colab": {
          "base_uri": "https://localhost:8080/"
        },
        "id": "ofeX045jAnQf",
        "outputId": "c777d360-e994-44ce-e440-d635e8348803"
      },
      "outputs": [
        {
          "output_type": "stream",
          "name": "stdout",
          "text": [
            "53\n"
          ]
        }
      ],
      "source": [
        "print(len(text_vector_num[0]))"
      ]
    },
    {
      "cell_type": "code",
      "execution_count": null,
      "metadata": {
        "colab": {
          "base_uri": "https://localhost:8080/"
        },
        "id": "g81lTUfHAnQm",
        "outputId": "ab01a5a4-add0-4013-eb56-9a7215f81a0d"
      },
      "outputs": [
        {
          "output_type": "stream",
          "name": "stdout",
          "text": [
            "53\n"
          ]
        }
      ],
      "source": [
        "print(len(vocab))"
      ]
    },
    {
      "cell_type": "code",
      "execution_count": null,
      "metadata": {
        "colab": {
          "base_uri": "https://localhost:8080/"
        },
        "id": "mC0w-gdlAnQp",
        "outputId": "0c29f16d-a15e-4276-9a63-95f50c5c09a5"
      },
      "outputs": [
        {
          "output_type": "stream",
          "name": "stdout",
          "text": [
            "[[1 1 0 0 0 0 0 1 0 0 0 0 1 0 1 0 0 1 0 0 0 0 0 0 0 0 1 0 0 0 0 2 0 0 1 0\n",
            "  0 0 1 0 0 0 1 0 0 0 0 1 0 1 1 0 0]\n",
            " [0 0 1 0 0 0 0 0 0 0 1 0 2 0 1 0 0 1 1 0 0 0 1 0 0 0 1 1 0 0 0 0 0 1 1 1\n",
            "  0 1 0 0 1 1 0 0 0 0 1 0 0 0 0 0 1]\n",
            " [0 1 2 1 0 0 0 0 0 1 1 0 3 1 1 0 0 1 0 1 0 1 0 0 1 1 0 1 0 0 0 0 0 0 0 0\n",
            "  0 0 0 0 0 0 0 1 0 1 1 0 1 0 2 0 0]]\n",
            "[[0 0 0 0 1 0 0 0 0 0 0 0 0 0 0 1 1 0 0 0 0 0 0 1 1 0 0 0 1 0 0 0 0 1 0 0\n",
            "  0 0 0 0 0 0 0 0 0 0 0 0 0 0 0 0 0]\n",
            " [0 0 0 0 0 1 0 0 0 0 0 0 0 0 0 0 0 0 0 0 0 0 0 0 0 0 0 0 0 0 0 0 1 0 1 0\n",
            "  0 0 0 0 0 0 0 0 1 0 0 0 0 0 1 1 0]\n",
            " [0 0 0 0 0 0 1 0 1 0 0 1 0 0 0 0 0 0 0 0 1 0 0 0 2 0 0 0 0 1 1 0 0 0 0 0\n",
            "  1 0 0 1 0 0 0 0 0 0 0 0 0 0 1 0 0]]\n"
          ]
        }
      ],
      "source": [
        "spam = np.array(text_vector_num[:3])\n",
        "ham = np.array(text_vector_num[3:])\n",
        "print(spam)\n",
        "print(ham)"
      ]
    },
    {
      "cell_type": "code",
      "execution_count": null,
      "metadata": {
        "colab": {
          "base_uri": "https://localhost:8080/"
        },
        "id": "USp5j8SrAnQs",
        "outputId": "676562bc-01d5-45e1-aed0-982721a725f8"
      },
      "outputs": [
        {
          "output_type": "stream",
          "name": "stdout",
          "text": [
            "[[1 1 0 0 0 0 0 1 0 0 0 0 1 0 1 0 0 1 0 0 0 0 0 0 0 0 1 0 0 0 0 2 0 0 1 0\n",
            "  0 0 1 0 0 0 1 0 0 0 0 1 0 1 1 0 0]\n",
            " [0 0 1 0 0 0 0 0 0 0 1 0 2 0 1 0 0 1 1 0 0 0 1 0 0 0 1 1 0 0 0 0 0 1 1 1\n",
            "  0 1 0 0 1 1 0 0 0 0 1 0 0 0 0 0 1]\n",
            " [0 1 2 1 0 0 0 0 0 1 1 0 3 1 1 0 0 1 0 1 0 1 0 0 1 1 0 1 0 0 0 0 0 0 0 0\n",
            "  0 0 0 0 0 0 0 1 0 1 1 0 1 0 2 0 0]\n",
            " [0 0 0 0 1 0 0 0 0 0 0 0 0 0 0 1 1 0 0 0 0 0 0 1 1 0 0 0 1 0 0 0 0 1 0 0\n",
            "  0 0 0 0 0 0 0 0 0 0 0 0 0 0 0 0 0]\n",
            " [0 0 0 0 0 1 0 0 0 0 0 0 0 0 0 0 0 0 0 0 0 0 0 0 0 0 0 0 0 0 0 0 1 0 1 0\n",
            "  0 0 0 0 0 0 0 0 1 0 0 0 0 0 1 1 0]\n",
            " [0 0 0 0 0 0 1 0 1 0 0 1 0 0 0 0 0 0 0 0 1 0 0 0 2 0 0 0 0 1 1 0 0 0 0 0\n",
            "  1 0 0 1 0 0 0 0 0 0 0 0 0 0 1 0 0]]\n"
          ]
        }
      ],
      "source": [
        "print(np.array(text_vector_num))"
      ]
    },
    {
      "cell_type": "code",
      "execution_count": null,
      "metadata": {
        "colab": {
          "base_uri": "https://localhost:8080/"
        },
        "id": "NNEVhpe_AnQu",
        "outputId": "5716b146-df28-4132-e1af-01b07beb041d"
      },
      "outputs": [
        {
          "output_type": "execute_result",
          "data": {
            "text/plain": [
              "array([0.01834862, 0.02752294, 0.03669725, 0.01834862, 0.00917431,\n",
              "       0.00917431, 0.00917431, 0.01834862, 0.00917431, 0.01834862,\n",
              "       0.02752294, 0.00917431, 0.06422018, 0.01834862, 0.03669725,\n",
              "       0.00917431, 0.00917431, 0.03669725, 0.01834862, 0.01834862,\n",
              "       0.00917431, 0.01834862, 0.01834862, 0.00917431, 0.01834862,\n",
              "       0.01834862, 0.02752294, 0.02752294, 0.00917431, 0.00917431,\n",
              "       0.00917431, 0.02752294, 0.00917431, 0.01834862, 0.02752294,\n",
              "       0.01834862, 0.00917431, 0.01834862, 0.01834862, 0.00917431,\n",
              "       0.01834862, 0.01834862, 0.01834862, 0.01834862, 0.00917431,\n",
              "       0.01834862, 0.02752294, 0.01834862, 0.01834862, 0.01834862,\n",
              "       0.03669725, 0.00917431, 0.01834862])"
            ]
          },
          "metadata": {},
          "execution_count": 95
        }
      ],
      "source": [
        "# add one in all the probabilities to omit zeros and add len(vocab to normalize it)\n",
        "probabilities_spam = (np.sum(spam,axis=0)+1)/(np.sum(spam)+len(vocab))\n",
        "probabilities_spam"
      ]
    },
    {
      "cell_type": "code",
      "execution_count": null,
      "metadata": {
        "colab": {
          "base_uri": "https://localhost:8080/"
        },
        "id": "tyZVvq1mAnQx",
        "outputId": "b4a5110e-58c7-4c99-ef8e-551ae501e9d6"
      },
      "outputs": [
        {
          "output_type": "execute_result",
          "data": {
            "text/plain": [
              "array([0.01298701, 0.01298701, 0.01298701, 0.01298701, 0.02597403,\n",
              "       0.02597403, 0.02597403, 0.01298701, 0.02597403, 0.01298701,\n",
              "       0.01298701, 0.02597403, 0.01298701, 0.01298701, 0.01298701,\n",
              "       0.02597403, 0.02597403, 0.01298701, 0.01298701, 0.01298701,\n",
              "       0.02597403, 0.01298701, 0.01298701, 0.02597403, 0.05194805,\n",
              "       0.01298701, 0.01298701, 0.01298701, 0.02597403, 0.02597403,\n",
              "       0.02597403, 0.01298701, 0.02597403, 0.02597403, 0.02597403,\n",
              "       0.01298701, 0.02597403, 0.01298701, 0.01298701, 0.02597403,\n",
              "       0.01298701, 0.01298701, 0.01298701, 0.01298701, 0.02597403,\n",
              "       0.01298701, 0.01298701, 0.01298701, 0.01298701, 0.01298701,\n",
              "       0.03896104, 0.02597403, 0.01298701])"
            ]
          },
          "metadata": {},
          "execution_count": 96
        }
      ],
      "source": [
        "probabilities_ham = (np.sum(ham,axis=0)+1)/(np.sum(ham)+len(vocab))\n",
        "probabilities_ham"
      ]
    },
    {
      "cell_type": "code",
      "execution_count": null,
      "metadata": {
        "colab": {
          "base_uri": "https://localhost:8080/"
        },
        "id": "EBlRDgimAnQ1",
        "outputId": "de44b99e-c4e1-4027-e363-014607cdba68"
      },
      "outputs": [
        {
          "output_type": "execute_result",
          "data": {
            "text/plain": [
              "(0.5, 0.5)"
            ]
          },
          "metadata": {},
          "execution_count": 97
        }
      ],
      "source": [
        "probability_spam,probability_ham = 3/6,3/6\n",
        "probability_spam,probability_ham"
      ]
    },
    {
      "cell_type": "code",
      "execution_count": null,
      "metadata": {
        "colab": {
          "base_uri": "https://localhost:8080/"
        },
        "id": "4DaCHN-RAnQ4",
        "outputId": "23d62a4d-78eb-4b98-fc30-6af8e86c2ec4"
      },
      "outputs": [
        {
          "output_type": "execute_result",
          "data": {
            "text/plain": [
              "56"
            ]
          },
          "metadata": {},
          "execution_count": 98
        }
      ],
      "source": [
        "np.sum(spam)"
      ]
    },
    {
      "cell_type": "code",
      "execution_count": null,
      "metadata": {
        "id": "77dBhw63AnQ6",
        "outputId": "2186a39d-b62b-46da-fb12-0a3a082d7177"
      },
      "outputs": [
        {
          "data": {
            "text/plain": [
              "53"
            ]
          },
          "execution_count": 18,
          "metadata": {
            "tags": []
          },
          "output_type": "execute_result"
        }
      ],
      "source": [
        "len(vocab)"
      ]
    },
    {
      "cell_type": "code",
      "execution_count": null,
      "metadata": {
        "colab": {
          "base_uri": "https://localhost:8080/"
        },
        "id": "suec2sCRAnQ9",
        "outputId": "5a77f723-751a-4b4b-f545-27504a4276b0"
      },
      "outputs": [
        {
          "output_type": "execute_result",
          "data": {
            "text/plain": [
              "24"
            ]
          },
          "metadata": {},
          "execution_count": 100
        }
      ],
      "source": [
        "np.sum(ham)"
      ]
    },
    {
      "cell_type": "code",
      "execution_count": null,
      "metadata": {
        "colab": {
          "base_uri": "https://localhost:8080/"
        },
        "id": "ijLfGcjiAnRA",
        "outputId": "d7b4bcc5-6267-4011-8c4f-4793e6d26a50"
      },
      "outputs": [
        {
          "output_type": "execute_result",
          "data": {
            "text/plain": [
              "[['i', 'am', 'busy', 'i', 'will', 'msg', 'you', 'later'],\n",
              " ['congrats', 'you', 'are', 'awarded', 'a', 'free', 'mobile']]"
            ]
          },
          "metadata": {},
          "execution_count": 101
        }
      ],
      "source": [
        "new = [\"I am busy. I will msg you later.\",\"Congrats! You are awarded a free mobile.\"]\n",
        "new_words= []\n",
        "for each in new:\n",
        "    processed = each.lower().replace(\".\",\"\").replace(\",\",\"\").replace(\"+\",\"\").replace(\"!\",\"\").split()\n",
        "    new_words.append(processed)\n",
        "new_words"
      ]
    },
    {
      "cell_type": "code",
      "execution_count": null,
      "metadata": {
        "id": "RAto-3WhAnRF"
      },
      "outputs": [],
      "source": [
        "def predict(words,probability_spam,probability_ham,probabilities_spam,probabilities_ham,vocab):\n",
        "    spam = probability_spam\n",
        "    ham = probability_ham\n",
        "    for word in words:\n",
        "        spam *= probabilities_spam[vocab.index(word)]\n",
        "        ham *= probabilities_ham[vocab.index(word)]\n",
        "    print(spam,ham)\n",
        "    if spam > ham:\n",
        "        return \" \".join(words),\"spam\"\n",
        "    else:\n",
        "        return \" \".join(words),\"ham\""
      ]
    },
    {
      "cell_type": "code",
      "execution_count": null,
      "metadata": {
        "colab": {
          "base_uri": "https://localhost:8080/"
        },
        "id": "iJhovoCKAnRK",
        "outputId": "a16c870e-4137-4ccf-cc13-14528742b07b"
      },
      "outputs": [
        {
          "output_type": "stream",
          "name": "stdout",
          "text": [
            "8.029860474764295e-16 3.107459112648254e-13\n",
            "('i am busy i will msg you later', 'ham')\n",
            "2.3631879377231325e-12 9.346654362262329e-14\n",
            "('congrats you are awarded a free mobile', 'spam')\n"
          ]
        }
      ],
      "source": [
        "print(predict(new_words[0],probability_spam,probability_ham,probabilities_spam,probabilities_ham,vocab))\n",
        "print(predict(new_words[1],probability_spam,probability_ham,probabilities_spam,probabilities_ham,vocab))"
      ]
    },
    {
      "cell_type": "code",
      "execution_count": null,
      "metadata": {
        "id": "G1vS5snvAnRO"
      },
      "outputs": [],
      "source": []
    }
  ],
  "metadata": {
    "colab": {
      "provenance": []
    },
    "kernelspec": {
      "display_name": "Python 3",
      "language": "python",
      "name": "python3"
    },
    "language_info": {
      "codemirror_mode": {
        "name": "ipython",
        "version": 3
      },
      "file_extension": ".py",
      "mimetype": "text/x-python",
      "name": "python",
      "nbconvert_exporter": "python",
      "pygments_lexer": "ipython3",
      "version": "3.8.3"
    }
  },
  "nbformat": 4,
  "nbformat_minor": 0
}