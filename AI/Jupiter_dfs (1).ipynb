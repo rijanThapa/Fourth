{
 "cells": [
  {
   "cell_type": "code",
   "execution_count": 1,
   "metadata": {
    "id": "9oMJS236wUqj"
   },
   "outputs": [],
   "source": [
    "import matplotlib.pyplot as plt\n",
    "import numpy as np"
   ]
  },
  {
   "cell_type": "code",
   "execution_count": 2,
   "metadata": {
    "id": "Y8_chhJ7o4gf"
   },
   "outputs": [],
   "source": [
    "class Queue():\n",
    "    def __init__(self, initial):\n",
    "        self.items = [initial]\n",
    "    def isEmpty(self):\n",
    "        return self.items == []\n",
    "    def enqueue(self, item):\n",
    "        self.items.insert(0,item)\n",
    "    def dequeue(self):\n",
    "        return self.items.pop()\n",
    "    def size(self):\n",
    "        return len(self.items)\n"
   ]
  },
  {
   "cell_type": "markdown",
   "metadata": {
    "id": "KAzpWGo-o_Nj"
   },
   "source": []
  },
  {
   "cell_type": "code",
   "execution_count": 3,
   "metadata": {
    "id": "BXlUHYUKo4gk"
   },
   "outputs": [],
   "source": [
    "class Stack():\n",
    "    def __init__(self, initial):\n",
    "        self.items = [initial]\n",
    "    def isEmpty(self):\n",
    "        return self.items == []\n",
    "    def push(self, item):\n",
    "        self.items.append(item)\n",
    "    def pop(self):\n",
    "        return self.items.pop()\n",
    "    def size(self):\n",
    "        return len(self.items)"
   ]
  },
  {
   "cell_type": "code",
   "execution_count": 4,
   "metadata": {
    "id": "rnFgH0nwo4gl"
   },
   "outputs": [],
   "source": [
    "class State():\n",
    "    right = {0, 1, 3, 4, 6, 7}\n",
    "    left = {1, 2, 4, 5, 7, 8}\n",
    "    up = {3, 4, 5, 6, 7, 8}\n",
    "    down = {0, 1, 2, 3, 4, 5}\n",
    "\n",
    "    def __init__(self, board_config, parent, move):\n",
    "        self.board_config = board_config  # board configuration of the current state in a string\n",
    "        self.board_config_list = list(map(int,board_config.split(',')))  # board configuration of the current state in a list\n",
    "        #print(self.board_config_list)\n",
    "        self.i = self.board_config_list.index(0)  # index of empty space in board (index of 0 in this case)\n",
    "        self.parent = parent  # parent state (node) of the present state\n",
    "        self.move = move  # the move (Up,Down,Left,Right) made in parent state that results in the present state\n",
    "    def get_children(self):\n",
    "        \"\"\"returns the list of all possible states reachable from the current state,\n",
    "        each child in the list is a State object\"\"\"\n",
    "        children = []\n",
    "        if self.i in State.up:\n",
    "            new_board_config = self.board_config_list[:]\n",
    "            new_board_config[self.i], new_board_config[self.i-3] = new_board_config[self.i-3], new_board_config[self.i]\n",
    "            children.append(State(','.join(map(str,new_board_config)), self.board_config,'Up'))\n",
    "\n",
    "        if self.i in State.down:\n",
    "            new_board_config = self.board_config_list[:]\n",
    "            new_board_config[self.i], new_board_config[self.i+3] = new_board_config[self.i+3], new_board_config[self.i]\n",
    "            children.append(State(','.join(map(str,new_board_config)), self.board_config,'Down'))\n",
    "\n",
    "        if self.i in State.left:\n",
    "            new_board_config = self.board_config_list[:]\n",
    "            new_board_config[self.i], new_board_config[self.i-1] = new_board_config[self.i-1], new_board_config[self.i]\n",
    "            children.append(State(','.join(map(str,new_board_config)), self.board_config,'Left'))\n",
    "\n",
    "        if self.i in State.right:\n",
    "            new_board_config = self.board_config_list[:]\n",
    "            new_board_config[self.i], new_board_config[self.i+1] = new_board_config[self.i+1], new_board_config[self.i]\n",
    "            children.append(State(','.join(map(str,new_board_config)), self.board_config,'Right'))\n",
    "        return children\n",
    "    def plot_8_puzzle(self):\n",
    "        board = np.array([int(x) for x in self.board_config.split(',')]).reshape(3, 3)\n",
    "\n",
    "        fig, ax = plt.subplots()\n",
    "        ax.matshow(board)\n",
    "\n",
    "        for i in range(3):\n",
    "            for j in range(3):\n",
    "                ax.text(j, i, str(board[i, j]), va='center', ha='center', fontsize=20, color='black')\n",
    "\n",
    "        plt.title('8 Puzzle')\n",
    "        plt.show()\n",
    "\n",
    "    def __str__(self):\n",
    "        return self.board_config\n"
   ]
  },
  {
   "cell_type": "code",
   "execution_count": 5,
   "metadata": {
    "id": "a9dMVscFo4gm"
   },
   "outputs": [
    {
     "ename": "IndentationError",
     "evalue": "unexpected indent (3696070592.py, line 4)",
     "output_type": "error",
     "traceback": [
      "\u001b[1;36m  Cell \u001b[1;32mIn[5], line 4\u001b[1;36m\u001b[0m\n\u001b[1;33m    while not frontier.isEmpty():\u001b[0m\n\u001b[1;37m    ^\u001b[0m\n\u001b[1;31mIndentationError\u001b[0m\u001b[1;31m:\u001b[0m unexpected indent\n"
     ]
    }
   ],
   "source": [
    "def dfs(initial,goal):\n",
    "  frontier = Stack(initial)\n",
    "  frontier_set = set()\n",
    "    while not frontier.isEmpty():\n",
    "    state = frontier.pop()\n",
    "    frontier_set.add(state.board_config)\n",
    "    if state.board_config == goal:\n",
    "      return \"success\"\n",
    "    else:\n",
    "      for child in state.get_children():\n",
    "        if child.board_config not in frontier_set:\n",
    "          frontier.push(child)\n",
    "  print(count)\n",
    "  return 'failure'\n",
    "\n",
    "\n"
   ]
  },
  {
   "cell_type": "code",
   "execution_count": 6,
   "metadata": {
    "id": "TvRi6JtB6WGk"
   },
   "outputs": [],
   "source": [
    "def bfs(initial,goal):\n",
    "  frontier = Queue(initial)\n",
    "  frontier_set = set()\n",
    "  graph = {}\n",
    "  while not frontier.isEmpty():\n",
    "    state = frontier.dequeue()\n",
    "    frontier_set.add(state.board_config)\n",
    "    graph[state.board_config]= state\n",
    "    if state.board_config == goal:\n",
    "      path = []\n",
    "      current = state\n",
    "      while not current.parent == None:\n",
    "        current.plot_8_puzzle()\n",
    "        path.append(current.move)\n",
    "        current = graph[current.parent]\n",
    "      return path\n",
    "    else:\n",
    "      for child in state.get_children():\n",
    "        if child.board_config not in frontier_set:\n",
    "          frontier.enqueue(child)\n",
    "\n",
    "  return 'failure'\n"
   ]
  },
  {
   "cell_type": "markdown",
   "metadata": {
    "id": "8HtZYkixsUwD"
   },
   "source": []
  },
  {
   "cell_type": "code",
   "execution_count": 7,
   "metadata": {
    "colab": {
     "base_uri": "https://localhost:8080/",
     "height": 457
    },
    "id": "iTa6_9Too4gn",
    "outputId": "b46fb15d-77c8-47d5-f6db-0de9c25bfe2f"
   },
   "outputs": [
    {
     "data": {
      "image/png": "[encoded data removed]",
      "text/plain": [
       "<Figure size 640x480 with 1 Axes>"
      ]
     },
     "metadata": {},
     "output_type": "display_data"
    }
   ],
   "source": [
    "start = '5,3,0,7,1,2,8,4,6'\n",
    "goal = '0,1,2,3,4,5,6,7,8'\n",
    "initial_state = State(start, None, None)\n",
    "initial_state.plot_8_puzzle()\n"
   ]
  },
  {
   "cell_type": "code",
   "execution_count": null,
   "metadata": {
    "id": "oylamW4B27a8"
   },
   "outputs": [],
   "source": []
  },
  {
   "cell_type": "code",
   "execution_count": 8,
   "metadata": {
    "colab": {
     "base_uri": "https://localhost:8080/",
     "height": 1000
    },
    "id": "NTO45Hqmo4gn",
    "outputId": "310d5856-120d-4947-dd8d-2dd1299af8b9",
    "scrolled": true
   },
   "outputs": [
    {
     "ename": "NameError",
     "evalue": "name 'dfs' is not defined",
     "output_type": "error",
     "traceback": [
      "\u001b[1;31m---------------------------------------------------------------------------\u001b[0m",
      "\u001b[1;31mNameError\u001b[0m                                 Traceback (most recent call last)",
      "Cell \u001b[1;32mIn[8], line 3\u001b[0m\n\u001b[0;32m      1\u001b[0m \u001b[38;5;28;01mimport\u001b[39;00m \u001b[38;5;21;01mtime\u001b[39;00m\n\u001b[0;32m      2\u001b[0m s\u001b[38;5;241m=\u001b[39mtime\u001b[38;5;241m.\u001b[39mtime()\n\u001b[1;32m----> 3\u001b[0m \u001b[38;5;28mprint\u001b[39m(dfs(initial_state, goal))\n\u001b[0;32m      4\u001b[0m f\u001b[38;5;241m=\u001b[39mtime\u001b[38;5;241m.\u001b[39mtime()\n\u001b[0;32m      5\u001b[0m e\u001b[38;5;241m=\u001b[39mf\u001b[38;5;241m-\u001b[39ms\n",
      "\u001b[1;31mNameError\u001b[0m: name 'dfs' is not defined"
     ]
    }
   ],
   "source": [
    "import time\n",
    "s=time.time()\n",
    "print(dfs(initial_state, goal))\n",
    "f=time.time()\n",
    "e=f-s\n",
    "print(e)\n",
    "\n"
   ]
  },
  {
   "cell_type": "code",
   "execution_count": null,
   "metadata": {
    "colab": {
     "base_uri": "https://localhost:8080/",
     "height": 1000
    },
    "id": "eBfqmDEp64sV",
    "outputId": "36efa2f7-1733-456f-cf5c-c9a07a8845f0"
   },
   "outputs": [],
   "source": [
    "import time\n",
    "s=time.time()\n",
    "print(bfs(initial_state, goal))\n",
    "f=time.time()\n",
    "e=f-s\n",
    "print(e)\n"
   ]
  }
 ],
 "metadata": {
  "colab": {
   "provenance": []
  },
  "kernelspec": {
   "display_name": "Python 3 (ipykernel)",
   "language": "python",
   "name": "python3"
  },
  "language_info": {
   "codemirror_mode": {
    "name": "ipython",
    "version": 3
   },
   "file_extension": ".py",
   "mimetype": "text/x-python",
   "name": "python",
   "nbconvert_exporter": "python",
   "pygments_lexer": "ipython3",
   "version": "3.11.7"
  }
 },
 "nbformat": 4,
 "nbformat_minor": 4
}
