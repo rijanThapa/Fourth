{
  "nbformat": 4,
  "nbformat_minor": 0,
  "metadata": {
    "colab": {
      "provenance": []
    },
    "kernelspec": {
      "name": "python3",
      "display_name": "Python 3"
    },
    "language_info": {
      "name": "python"
    }
  },
  "cells": [
    {
      "cell_type": "code",
      "execution_count": null,
      "metadata": {
        "colab": {
          "base_uri": "https://localhost:8080/"
        },
        "id": "sepVoxFWv1_F",
        "outputId": "9a7fce13-b205-46f7-dbe1-ad83b182c4f4"
      },
      "outputs": [
        {
          "output_type": "stream",
          "name": "stdout",
          "text": [
            "Solution for water jug problem\n",
            "Enter Jug 1 capacity:21\n",
            "Enter Jug 2 capacity:87\n",
            "Enter target volume:18\n",
            "Found!\n",
            "[[0, 0], [0, 87], [21, 66], [21, 87], [21, 0], [0, 21], [21, 21], [0, 42], [21, 42], [0, 63], [21, 63], [0, 84], [21, 84], [18, 87]]\n"
          ]
        }
      ],
      "source": [
        "print(\"Solution for water jug problem\")\n",
        "x_capacity = input(\"Enter Jug 1 capacity:\")\n",
        "y_capacity = input(\"Enter Jug 2 capacity:\")\n",
        "end = input(\"Enter target volume:\")\n",
        "\n",
        "def Production_Rule_Implementation(start, end, x_capacity, y_capacity):\n",
        "\tpath = []\n",
        "\tfront = []\n",
        "\tfront.append(start)\n",
        "\tvisited = []\n",
        "\t#visited.append(start)\n",
        "\twhile front:\n",
        "\t\tcurrent = front.pop()\n",
        "\t\tx = current[0]\n",
        "\t\ty = current[1]\n",
        "\t\tpath.append(current)\n",
        "\t\tif x == end or y == end:\n",
        "\t\t\tprint(\"Found!\")\n",
        "\t\t\treturn path\n",
        "\t\t# rule 1 filling x\n",
        "\t\tif current[0] < x_capacity and ([x_capacity, current[1]] not in visited):\n",
        "\t\t\tfront.append([x_capacity, current[1]])\n",
        "\t\t\tvisited.append([x_capacity, current[1]])\n",
        "\n",
        "\t\t# rule 2 filling y\n",
        "\t\tif current[1] < y_capacity and ([current[0], y_capacity] not in visited):\n",
        "\t\t\tfront.append([current[0], y_capacity])\n",
        "\t\t\tvisited.append([current[0], y_capacity])\n",
        "\n",
        "\t\t# rule 3 emptying x\n",
        "\t\tif current[0] > x_capacity and ([0, current[1]] not in visited):\n",
        "\t\t\tfront.append([0, current[1]])\n",
        "\t\t\tvisited.append([0, current[1]])\n",
        "\n",
        "\t\t# rule 4 emptying y\n",
        "\t\tif current[1] > y_capacity and ([x_capacity, 0] not in visited):\n",
        "\t\t\tfront.append([x_capacity, 0])\n",
        "\t\t\tvisited.append([x_capacity, 0])\n",
        "\n",
        "\t\t# rule 5 pouring y into x, both in case y is empty or y is left with some\n",
        "\t\t#(x, y) -> (min(x + y, x_capacity), max(0, x + y - x_capacity)) if y > 0\n",
        "\t\tif current[1] > 0 and ([min(x + y, x_capacity), max(0, x + y - x_capacity)] not in visited):\n",
        "\t\t\tfront.append([min(x + y, x_capacity), max(0, x + y - x_capacity)])\n",
        "\t\t\tvisited.append([min(x + y, x_capacity), max(0, x + y - x_capacity)])\n",
        "\n",
        "\t\t# rule 6 pouring x into y, both in case x is empty or x is left with some\n",
        "\t\t# (x, y) -> (max(0, x + y - y_capacity), min(x + y, y_capacity)) if x > 0\n",
        "\t\tif current[0] > 0  and ([max(0, x + y - y_capacity), min(x + y, y_capacity)] not in visited):\n",
        "\t\t\tfront.append([max(0, x + y - y_capacity), min(x + y, y_capacity)])\n",
        "\t\t\tvisited.append([max(0, x + y - y_capacity), min(x + y, y_capacity)])\n",
        "\n",
        "\treturn \"Not found\"\n",
        "\n",
        "def gcd(a, b):\n",
        "\tif a == 0:\n",
        "\t\treturn b\n",
        "\treturn gcd(b%a, a)\n",
        "\n",
        "\n",
        "start = [0, 0]\n",
        "\n",
        "if int(end) % gcd(int(x_capacity),int(y_capacity)) == 0:\n",
        "  \tprint (Production_Rule_Implementation(start, int(end),int( x_capacity),int( y_capacity)))\n",
        "\n",
        "\n",
        "else:\n",
        "\tprint (\"No solution possible for this combination.\")"
      ]
    },
    {
      "cell_type": "code",
      "source": [
        "import numpy as np\n",
        "X = np.array([ [0,0,1],[0,1,1],[1,0,1],[1,1,1] ])\n",
        "y = np.array([[0,1,1,0]]).T\n",
        "#initialization\n",
        "syn0 = 2*np.random.random((3,4)) - 1\n",
        "syn1 = 2*np.random.random((4,1)) - 1\n",
        "\n",
        "for j in range(60000):\n",
        "  #feed forward with sigmoid activation for first layer\n",
        "  l1 = 1/(1+np.exp(-(np.dot(X,syn0))))\n",
        "  #feed forward with sigmoid activation for Second layer\n",
        "  l2 = 1/(1+np.exp(-(np.dot(l1,syn1))))\n",
        "  #Backpropagation of error for second layer of weights with derivative of Sigmoid\n",
        "  l2_delta = (y - l2)*(l2*(1-l2))\n",
        "  #Backpropagation of error for first layer of weights with derivative of Sigmoid and the summation\n",
        "  l1_delta = l2_delta.dot(syn1.T) * (l1 * (1-l1))\n",
        "  #update of weights in both layers with respective errors from back propagation\n",
        "  syn1 += l1.T.dot(l2_delta)\n",
        "  syn0 += X.T.dot(l1_delta)\n"
      ],
      "metadata": {
        "colab": {
          "base_uri": "https://localhost:8080/"
        },
        "id": "9lThkxP-5k5g",
        "outputId": "899242fc-0c14-469d-efa8-a98ce07497e6"
      },
      "execution_count": null,
      "outputs": [
        {
          "output_type": "stream",
          "name": "stdout",
          "text": [
            "[[ 0.04628291 -0.75591169  0.54223175 -0.11729614]\n",
            " [ 0.16687511 -0.12646003 -0.83220527 -0.46744781]\n",
            " [-0.97203623 -0.13925011  0.41025516 -0.04732832]]\n",
            "[[ 0.86436613]\n",
            " [ 0.52170591]\n",
            " [-0.37675765]\n",
            " [-0.46608882]]\n",
            "[[11.08976102]\n",
            " [ 6.78819004]\n",
            " [-9.48438653]\n",
            " [-4.86318545]]\n",
            "[[ 5.92261132 -2.12311649  6.6831926  -3.76862944]\n",
            " [-6.57322679 -1.16395396 -6.05423118 -4.26342251]\n",
            " [-3.07422415  3.18828998  2.8370535   1.18011955]]\n"
          ]
        }
      ]
    },
    {
      "cell_type": "code",
      "source": [
        "l5 = 1/(1+np.exp(-(np.dot([1,1,1],syn0))))\n",
        "l6 = 1/(1+np.exp(-(np.dot(l5,syn1))))\n",
        "print(l6)"
      ],
      "metadata": {
        "colab": {
          "base_uri": "https://localhost:8080/"
        },
        "id": "A6bb2jdX9fb1",
        "outputId": "336994c2-e155-4537-9bdd-7ed50fed377e"
      },
      "execution_count": null,
      "outputs": [
        {
          "output_type": "stream",
          "name": "stdout",
          "text": [
            "[0.00328714]\n"
          ]
        }
      ]
    },
    {
      "cell_type": "code",
      "source": [
        "import numpy as np\n",
        "X = np.array([[0,0,0],[0,0,1],[0,1,0],[0,1,1],[1,0,0],[1,0,1],[1,1,0],[1,1,1] ])\n",
        "y = np.array([[0,1,1,0,1,0,0,1]]).T\n",
        "z = np.array([[0,0,0,1,0,1,1,1]]).T\n",
        "syn0 = 2*np.random.random((3,4)) - 1\n",
        "print(syn0)\n",
        "syn1 = 2*np.random.random((4,1)) - 1\n",
        "print(syn1)\n",
        "syn3 = 2*np.random.random((3,4)) - 1\n",
        "print(syn0)\n",
        "syn4 = 2*np.random.random((4,1)) - 1\n",
        "print(syn1)\n",
        "#Neural network with Z variable as target\n",
        "for j in range(60000):\n",
        "  #feed forward with sigmoid activation for first layer\n",
        "  l1 = 1/(1+np.exp(-(np.dot(X,syn0))))\n",
        "  #feed forward with sigmoid activation for first layer\n",
        "  l2 = 1/(1+np.exp(-(np.dot(l1,syn1))))\n",
        "  l2_delta = (y - l2)*(l2*(1-l2))\n",
        "  l1_delta = l2_delta.dot(syn1.T) * (l1 * (1-l1))\n",
        "  syn1 += l1.T.dot(l2_delta)\n",
        "  syn0 += X.T.dot(l1_delta)\n",
        "# Neural network with Z variable as target\n",
        "for k in range(60000):\n",
        "  #feed forward with sigmoid activation for first layer\n",
        "  l3 = 1/(1+np.exp(-(np.dot(X,syn3))))\n",
        "  #feed forward with sigmoid activation for first layer\n",
        "  l4 = 1/(1+np.exp(-(np.dot(l3,syn4))))\n",
        "  l4_delta = (z - l4)*(l4*(1-l4))\n",
        "  l3_delta = l4_delta.dot(syn4.T) * (l3 * (1-l3))\n",
        "  syn4 += l3.T.dot(l4_delta)\n",
        "  syn3 += X.T.dot(l3_delta)\n",
        "\n",
        "  #feed forward with sigmoid activation for first layer\n",
        "  l1 = 1/(1+np.exp(-(np.dot(X,syn0))))\n",
        "  #feed forward with sigmoid activation for Second layer\n",
        "  l2 = 1/(1+np.exp(-(np.dot(l1,syn1))))\n",
        "  #Backpropagation of error for second layer of weights with derivative of Sigmoid\n",
        "  l2_delta = (y - l2)*(l2*(1-l2))\n",
        "  #Backpropagation of error for first layer of weights with derivative of Sigmoid and the summation\n",
        "  l1_delta = l2_delta.dot(syn1.T) * (l1 * (1-l1))\n",
        "  #update of weights in both layers with respective errors from back propagation\n",
        "  syn1 += l1.T.dot(l2_delta)\n",
        "  syn0 += X.T.dot(l1_delta)\n"
      ],
      "metadata": {
        "colab": {
          "base_uri": "https://localhost:8080/"
        },
        "id": "cNFCJWcK-fTI",
        "outputId": "6725d812-8d41-4a09-e4a2-71f14fcfc7b7"
      },
      "execution_count": null,
      "outputs": [
        {
          "output_type": "stream",
          "name": "stdout",
          "text": [
            "[[ 0.05719951 -0.77194188 -0.6706568   0.01694414]\n",
            " [ 0.18365444  0.28363572 -0.31549707  0.58956529]\n",
            " [ 0.44812387 -0.24818169 -0.57978359 -0.92466183]]\n",
            "[[-0.09607308]\n",
            " [ 0.46848227]\n",
            " [-0.74710276]\n",
            " [ 0.13949815]]\n",
            "[[ 0.05719951 -0.77194188 -0.6706568   0.01694414]\n",
            " [ 0.18365444  0.28363572 -0.31549707  0.58956529]\n",
            " [ 0.44812387 -0.24818169 -0.57978359 -0.92466183]]\n",
            "[[-0.09607308]\n",
            " [ 0.46848227]\n",
            " [-0.74710276]\n",
            " [ 0.13949815]]\n"
          ]
        }
      ]
    },
    {
      "cell_type": "code",
      "source": [
        "Z=[]\n",
        "for a in range(8):\n",
        "  Z.append([y[a],z[a]])\n",
        "Z=np.array(Z)\n",
        "np.reshape(Z,(8,2))"
      ],
      "metadata": {
        "colab": {
          "base_uri": "https://localhost:8080/"
        },
        "id": "6wZTpk3hAIZH",
        "outputId": "b8062d1b-c4fa-4f04-9aee-bbe351028abd"
      },
      "execution_count": null,
      "outputs": [
        {
          "output_type": "execute_result",
          "data": {
            "text/plain": [
              "array([[0, 0],\n",
              "       [1, 0],\n",
              "       [1, 0],\n",
              "       [0, 1],\n",
              "       [1, 0],\n",
              "       [0, 1],\n",
              "       [0, 1],\n",
              "       [1, 1]])"
            ]
          },
          "metadata": {},
          "execution_count": 30
        }
      ]
    },
    {
      "cell_type": "code",
      "source": [
        "Z"
      ],
      "metadata": {
        "colab": {
          "base_uri": "https://localhost:8080/"
        },
        "id": "h39M63K799hl",
        "outputId": "99a26a25-0da9-4d35-8714-dfc24113348f"
      },
      "execution_count": null,
      "outputs": [
        {
          "output_type": "execute_result",
          "data": {
            "text/plain": [
              "[array([0]), array([0])]"
            ]
          },
          "metadata": {},
          "execution_count": 24
        }
      ]
    },
    {
      "cell_type": "code",
      "source": [
        "c = []\n",
        "d = []\n",
        "for a in  X:\n",
        "\n",
        "      l5 = 1/(1+np.exp(-(np.dot(a,syn0))))\n",
        "      l6 = 1/(1+np.exp(-(np.dot(l5,syn1))))\n",
        "      l7 = 1/(1+np.exp(-(np.dot(a,syn3))))\n",
        "      l8 = 1/(1+np.exp(-(np.dot(l7,syn4))))\n",
        "      c.append(round(list(l6)[0]))\n",
        "      d.append(round(list(l8)[0]))\n",
        "print(c)\n",
        "if c == list(y) and d==list(z):\n",
        "  print ('test successful')\n",
        "else:\n",
        "  print ('failure')"
      ],
      "metadata": {
        "colab": {
          "base_uri": "https://localhost:8080/"
        },
        "id": "SFt4rMwnBmVF",
        "outputId": "6a7628cd-825a-4bc5-9a38-59055d88789f"
      },
      "execution_count": null,
      "outputs": [
        {
          "output_type": "stream",
          "name": "stdout",
          "text": [
            "[0, 1, 1, 0, 1, 0, 0, 1]\n",
            "test successful\n"
          ]
        }
      ]
    },
    {
      "cell_type": "code",
      "source": [
        "import numpy as np\n"
      ],
      "metadata": {
        "id": "uUsmUkpNC6AM"
      },
      "execution_count": null,
      "outputs": []
    },
    {
      "cell_type": "code",
      "source": [
        "import numpy as np\n",
        "X = np.array([[0,0,0],[0,0,1],[0,1,0],[0,1,1],[1,0,0],[1,0,1],[1,1,0],[1,1,1] ])\n",
        "y = np.array([[0,1,1,0,1,0,0,1]]).T\n",
        "z = np.array([[0,0,0,1,0,1,1,1]]).T\n",
        "Z=[]\n",
        "for a in range(8):# making the labels\n",
        "  Z.append([y[a],z[a]])\n",
        "Z=np.reshape(Z,(8,2))\n",
        "\n",
        "syn0 = 2*np.random.random((3,4)) - 1\n",
        "syn1 = 2*np.random.random((4,2)) - 1\n",
        "\n",
        "#Neural network with Z variable as target\n",
        "for j in range(60000):\n",
        "  #feed forward with sigmoid activation for first layer\n",
        "  l1 = 1/(1+np.exp(-(np.dot(X,syn0))))\n",
        "  #feed forward with sigmoid activation for first layer\n",
        "  l2 = 1/(1+np.exp(-(np.dot(l1,syn1))))\n",
        "  l2_delta = (Z - l2)*(l2*(1-l2))\n",
        "  l1_delta = l2_delta.dot(syn1.T) * (l1 * (1-l1))\n",
        "  syn1 += l1.T.dot(l2_delta)\n",
        "  syn0 += X.T.dot(l1_delta)\n",
        "# Neural network with Z variable as target\n",
        "\n"
      ],
      "metadata": {
        "id": "-mnlnwgj4sGv"
      },
      "execution_count": 11,
      "outputs": []
    },
    {
      "cell_type": "code",
      "source": [
        "l4 = 1/(1+np.exp(-(np.dot([1,1,0],syn0))))\n",
        "l5 = 1/(1+np.exp(-(np.dot(l4,syn1))))\n",
        "l5"
      ],
      "metadata": {
        "colab": {
          "base_uri": "https://localhost:8080/"
        },
        "id": "-SpiJ27u-0Y3",
        "outputId": "18f5e2c3-4de6-4b32-c7e1-64c5f6df5732"
      },
      "execution_count": 12,
      "outputs": [
        {
          "output_type": "execute_result",
          "data": {
            "text/plain": [
              "array([0.00708335, 0.99138983])"
            ]
          },
          "metadata": {},
          "execution_count": 12
        }
      ]
    },
    {
      "cell_type": "code",
      "source": [
        "import numpy as np\n",
        "X = np.array([[0,0,0],[0,0,1],[0,1,0],[0,1,1],[1,0,0],[1,0,1],[1,1,0],[1,1,1] ])\n",
        "y = np.array([[0,1,1,0,1,0,0,1]]).T\n",
        "z = np.array([[0,0,0,1,0,1,1,1]]).T\n",
        "labels=[]\n",
        "for a in range(8):# making the labels\n",
        "  labels.append([y[a],z[a]])\n",
        "labels=np.reshape(labels,(8,2))\n",
        "# initializing random neurons\n",
        "syn0 = 2*np.random.random((3,4)) - 1\n",
        "syn1 = 2*np.random.random((4,2)) - 1\n",
        "\n",
        "#Neural network with Z variable as target\n",
        "for j in range(90000):\n",
        "  #feed forward with sigmoid activation for first layer\n",
        "  b = np.dot(X,syn0)\n",
        "  l1 = 1/(1+np.exp(-(b)))\n",
        "  #feed forward with sigmoid activation for first layer\n",
        "  c = np.dot(l1,syn1)\n",
        "  l2 = 1/(1+np.exp(-(c)))\n",
        "  sigmoid_derivatives2 = (l2*(1-l2))\n",
        "  l2_delta = (labels - l2)* sigmoid_derivatives2\n",
        "  sigmoid_derivatives1 =(l1 * (1-l1))\n",
        "  l1_delta = l2_delta.dot(syn1.T) * sigmoid_derivatives1\n",
        "  syn1 += l1.T.dot(l2_delta)\n",
        "  syn0 += X.T.dot(l1_delta)"
      ],
      "metadata": {
        "id": "lZDlkL2o_lY7"
      },
      "execution_count": null,
      "outputs": []
    }
  ]
}