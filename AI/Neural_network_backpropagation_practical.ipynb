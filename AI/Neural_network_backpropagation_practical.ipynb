{
 "cells": [
  {
   "cell_type": "code",
   "execution_count": null,
   "metadata": {
    "id": "sepVoxFWv1_F"
   },
   "outputs": [],
   "source": []
  },
  {
   "cell_type": "code",
   "execution_count": 19,
   "metadata": {
    "id": "9lThkxP-5k5g"
   },
   "outputs": [],
   "source": [
    "import numpy as np\n"
   ]
  },
  {
   "cell_type": "code",
   "execution_count": null,
   "metadata": {
    "colab": {
     "base_uri": "https://localhost:8080/"
    },
    "id": "A6bb2jdX9fb1",
    "outputId": "336994c2-e155-4537-9bdd-7ed50fed377e"
   },
   "outputs": [],
   "source": []
  },
  {
   "cell_type": "code",
   "execution_count": 20,
   "metadata": {
    "colab": {
     "base_uri": "https://localhost:8080/"
    },
    "id": "cNFCJWcK-fTI",
    "outputId": "6725d812-8d41-4a09-e4a2-71f14fcfc7b7"
   },
   "outputs": [
    {
     "name": "stdout",
     "output_type": "stream",
     "text": [
      "[[-0.59026371 -0.37370124 -0.9991802   0.55366466]\n",
      " [ 0.00968051 -0.60523707 -0.81289141  0.78297085]\n",
      " [ 0.56721096 -0.28181779 -0.94492921  0.49197322]]\n",
      "[[ 0.20243336]\n",
      " [ 0.4128774 ]\n",
      " [-0.41875505]\n",
      " [-0.4776735 ]]\n",
      "[[-0.59026371 -0.37370124 -0.9991802   0.55366466]\n",
      " [ 0.00968051 -0.60523707 -0.81289141  0.78297085]\n",
      " [ 0.56721096 -0.28181779 -0.94492921  0.49197322]]\n",
      "[[ 0.20243336]\n",
      " [ 0.4128774 ]\n",
      " [-0.41875505]\n",
      " [-0.4776735 ]]\n"
     ]
    }
   ],
   "source": [
    "import numpy as np\n",
    "X = np.array([[0,0,0],[0,0,1],[0,1,0],[0,1,1],[1,0,0],[1,0,1],[1,1,0],[1,1,1] ])\n",
    "y = np.array([[0,1,1,0,1,0,0,1]]).T\n",
    "z = np.array([[0,0,0,1,0,1,1,1]]).T\n",
    "syn0 = 2*np.random.random((3,4)) - 1\n",
    "print(syn0)\n",
    "syn1 = 2*np.random.random((4,1)) - 1\n",
    "print(syn1)\n",
    "syn3 = 2*np.random.random((3,4)) - 1\n",
    "print(syn0)\n",
    "syn4 = 2*np.random.random((4,1)) - 1\n",
    "print(syn1)\n",
    "#Neural network with Z variable as target\n",
    "for j in range(60000):\n",
    "  #feed forward with sigmoid activation for first layer\n",
    "  l1 = 1/(1+np.exp(-(np.dot(X,syn0))))\n",
    "  #feed forward with sigmoid activation for first layer\n",
    "  l2 = 1/(1+np.exp(-(np.dot(l1,syn1))))\n",
    "  l2_delta = (y - l2)*(l2*(1-l2))\n",
    "  l1_delta = l2_delta.dot(syn1.T) * (l1 * (1-l1))\n",
    "  syn1 += l1.T.dot(l2_delta)\n",
    "  syn0 += X.T.dot(l1_delta)\n",
    "# Neural network with Z variable as target\n",
    "for k in range(60000):\n",
    "  #feed forward with sigmoid activation for first layer\n",
    "  l3 = 1/(1+np.exp(-(np.dot(X,syn3))))\n",
    "  #feed forward with sigmoid activation for first layer\n",
    "  l4 = 1/(1+np.exp(-(np.dot(l3,syn4))))\n",
    "  l4_delta = (z - l4)*(l4*(1-l4))\n",
    "  l3_delta = l4_delta.dot(syn4.T) * (l3 * (1-l3))\n",
    "  syn4 += l3.T.dot(l4_delta)\n",
    "  syn3 += X.T.dot(l3_delta)\n",
    "\n",
    "  #feed forward with sigmoid activation for first layer\n",
    "  l1 = 1/(1+np.exp(-(np.dot(X,syn0))))\n",
    "  #feed forward with sigmoid activation for Second layer\n",
    "  l2 = 1/(1+np.exp(-(np.dot(l1,syn1))))\n",
    "  #Backpropagation of error for second layer of weights with derivative of Sigmoid\n",
    "  l2_delta = (y - l2)*(l2*(1-l2))\n",
    "  #Backpropagation of error for first layer of weights with derivative of Sigmoid and the summation\n",
    "  l1_delta = l2_delta.dot(syn1.T) * (l1 * (1-l1))\n",
    "  #update of weights in both layers with respective errors from back propagation\n",
    "  syn1 += l1.T.dot(l2_delta)\n",
    "  syn0 += X.T.dot(l1_delta)\n"
   ]
  },
  {
   "cell_type": "code",
   "execution_count": 21,
   "metadata": {
    "colab": {
     "base_uri": "https://localhost:8080/"
    },
    "id": "6wZTpk3hAIZH",
    "outputId": "b8062d1b-c4fa-4f04-9aee-bbe351028abd"
   },
   "outputs": [
    {
     "data": {
      "text/plain": [
       "array([[0, 0],\n",
       "       [1, 0],\n",
       "       [1, 0],\n",
       "       [0, 1],\n",
       "       [1, 0],\n",
       "       [0, 1],\n",
       "       [0, 1],\n",
       "       [1, 1]])"
      ]
     },
     "execution_count": 21,
     "metadata": {},
     "output_type": "execute_result"
    }
   ],
   "source": [
    "Z=[]\n",
    "for a in range(8):\n",
    "  Z.append([y[a],z[a]])\n",
    "Z=np.array(Z)\n",
    "np.reshape(Z,(8,2))"
   ]
  },
  {
   "cell_type": "code",
   "execution_count": 22,
   "metadata": {
    "colab": {
     "base_uri": "https://localhost:8080/"
    },
    "id": "h39M63K799hl",
    "outputId": "99a26a25-0da9-4d35-8714-dfc24113348f"
   },
   "outputs": [
    {
     "data": {
      "text/plain": [
       "array([[[0],\n",
       "        [0]],\n",
       "\n",
       "       [[1],\n",
       "        [0]],\n",
       "\n",
       "       [[1],\n",
       "        [0]],\n",
       "\n",
       "       [[0],\n",
       "        [1]],\n",
       "\n",
       "       [[1],\n",
       "        [0]],\n",
       "\n",
       "       [[0],\n",
       "        [1]],\n",
       "\n",
       "       [[0],\n",
       "        [1]],\n",
       "\n",
       "       [[1],\n",
       "        [1]]])"
      ]
     },
     "execution_count": 22,
     "metadata": {},
     "output_type": "execute_result"
    }
   ],
   "source": [
    "Z"
   ]
  },
  {
   "cell_type": "code",
   "execution_count": 23,
   "metadata": {
    "colab": {
     "base_uri": "https://localhost:8080/"
    },
    "id": "SFt4rMwnBmVF",
    "outputId": "6a7628cd-825a-4bc5-9a38-59055d88789f"
   },
   "outputs": [
    {
     "name": "stdout",
     "output_type": "stream",
     "text": [
      "[0, 1, 1, 0, 1, 0, 0, 1]\n",
      "test successful\n"
     ]
    }
   ],
   "source": [
    "c = []\n",
    "d = []\n",
    "for a in  X:\n",
    "\n",
    "      l5 = 1/(1+np.exp(-(np.dot(a,syn0))))\n",
    "      l6 = 1/(1+np.exp(-(np.dot(l5,syn1))))\n",
    "      l7 = 1/(1+np.exp(-(np.dot(a,syn3))))\n",
    "      l8 = 1/(1+np.exp(-(np.dot(l7,syn4))))\n",
    "      c.append(round(list(l6)[0]))\n",
    "      d.append(round(list(l8)[0]))\n",
    "print(c)\n",
    "if c == list(y) and d==list(z):\n",
    "  print ('test successful')\n",
    "else:\n",
    "  print ('failure')"
   ]
  },
  {
   "cell_type": "code",
   "execution_count": 24,
   "metadata": {
    "id": "uUsmUkpNC6AM"
   },
   "outputs": [],
   "source": [
    "import numpy as np\n"
   ]
  },
  {
   "cell_type": "code",
   "execution_count": 25,
   "metadata": {
    "id": "-mnlnwgj4sGv"
   },
   "outputs": [],
   "source": [
    "import numpy as np\n",
    "X = np.array([[0,0,0],[0,0,1],[0,1,0],[0,1,1],[1,0,0],[1,0,1],[1,1,0],[1,1,1] ])\n",
    "y = np.array([[0,1,1,0,1,0,0,1]]).T\n",
    "z = np.array([[0,0,0,1,0,1,1,1]]).T\n",
    "Z=[]\n",
    "for a in range(8):# making the labels\n",
    "  Z.append([y[a],z[a]])\n",
    "Z=np.reshape(Z,(8,2))\n",
    "\n",
    "syn0 = 2*np.random.random((3,4)) - 1\n",
    "syn1 = 2*np.random.random((4,2)) - 1\n",
    "\n",
    "#Neural network with Z variable as target\n",
    "for j in range(60000):\n",
    "  #feed forward with sigmoid activation for first layer\n",
    "  l1 = 1/(1+np.exp(-(np.dot(X,syn0))))\n",
    "  #feed forward with sigmoid activation for first layer\n",
    "  l2 = 1/(1+np.exp(-(np.dot(l1,syn1))))\n",
    "  l2_delta = (Z - l2)*(l2*(1-l2))\n",
    "  l1_delta = l2_delta.dot(syn1.T) * (l1 * (1-l1))\n",
    "  syn1 += l1.T.dot(l2_delta)\n",
    "  syn0 += X.T.dot(l1_delta)\n",
    "# Neural network with Z variable as target\n",
    "\n"
   ]
  },
  {
   "cell_type": "code",
   "execution_count": 26,
   "metadata": {
    "colab": {
     "base_uri": "https://localhost:8080/"
    },
    "id": "-SpiJ27u-0Y3",
    "outputId": "18f5e2c3-4de6-4b32-c7e1-64c5f6df5732"
   },
   "outputs": [
    {
     "data": {
      "text/plain": [
       "array([0.00583335, 0.98372441])"
      ]
     },
     "execution_count": 26,
     "metadata": {},
     "output_type": "execute_result"
    }
   ],
   "source": [
    "l4 = 1/(1+np.exp(-(np.dot([1,1,0],syn0))))\n",
    "l5 = 1/(1+np.exp(-(np.dot(l4,syn1))))\n",
    "l5"
   ]
  },
  {
   "cell_type": "code",
   "execution_count": 27,
   "metadata": {
    "id": "lZDlkL2o_lY7"
   },
   "outputs": [],
   "source": [
    "import numpy as np\n",
    "X = np.array([[0,0,0],[0,0,1],[0,1,0],[0,1,1],[1,0,0],[1,0,1],[1,1,0],[1,1,1] ])\n",
    "y = np.array([[0,1,1,0,1,0,0,1]]).T\n",
    "z = np.array([[0,0,0,1,0,1,1,1]]).T\n",
    "labels=[]\n",
    "for a in range(8):# making the labels\n",
    "  labels.append([y[a],z[a]])\n",
    "labels=np.reshape(labels,(8,2))\n",
    "# initializing random neurons\n",
    "syn0 = 2*np.random.random((3,4)) - 1\n",
    "syn1 = 2*np.random.random((4,2)) - 1\n",
    "\n",
    "#Neural network with Z variable as target\n",
    "for j in range(90000):\n",
    "  #feed forward with sigmoid activation for first layer\n",
    "  b = np.dot(X,syn0)\n",
    "  l1 = 1/(1+np.exp(-(b)))\n",
    "  #feed forward with sigmoid activation for first layer\n",
    "  c = np.dot(l1,syn1)\n",
    "  l2 = 1/(1+np.exp(-(c)))\n",
    "  sigmoid_derivatives2 = (l2*(1-l2))\n",
    "  l2_delta = (labels - l2)* sigmoid_derivatives2\n",
    "  sigmoid_derivatives1 =(l1 * (1-l1))\n",
    "  l1_delta = l2_delta.dot(syn1.T) * sigmoid_derivatives1\n",
    "  syn1 += l1.T.dot(l2_delta)\n",
    "  syn0 += X.T.dot(l1_delta)"
   ]
  }
 ],
 "metadata": {
  "colab": {
   "provenance": []
  },
  "kernelspec": {
   "display_name": "Python 3 (ipykernel)",
   "language": "python",
   "name": "python3"
  },
  "language_info": {
   "codemirror_mode": {
    "name": "ipython",
    "version": 3
   },
   "file_extension": ".py",
   "mimetype": "text/x-python",
   "name": "python",
   "nbconvert_exporter": "python",
   "pygments_lexer": "ipython3",
   "version": "3.11.7"
  }
 },
 "nbformat": 4,
 "nbformat_minor": 4
}
